{
  "cells": [
    {
      "cell_type": "markdown",
      "source": [
        "### Import Required Libraries"
      ],
      "metadata": {
        "id": "G1Mr8vzU6FiU"
      },
      "id": "G1Mr8vzU6FiU"
    },
    {
      "cell_type": "code",
      "source": [
        "# Import TensorFlow and Keras components needed for model building and training\n",
        "import tensorflow as tf\n",
        "from tensorflow.keras.preprocessing.image import ImageDataGenerator\n",
        "from tensorflow.keras.models import Sequential\n",
        "from tensorflow.keras.layers import Conv2D, MaxPooling2D, Flatten, Dense, Dropout"
      ],
      "metadata": {
        "id": "HIqg1wub6Ejz"
      },
      "id": "HIqg1wub6Ejz",
      "execution_count": null,
      "outputs": []
    },
    {
      "cell_type": "markdown",
      "source": [
        "### Load and Preprocess Dataset"
      ],
      "metadata": {
        "id": "O78-iZ8Q6YQG"
      },
      "id": "O78-iZ8Q6YQG"
    },
    {
      "cell_type": "code",
      "source": [
        "dataset_path = \"plant_data\" # Define path to your dataset directory\n",
        "\n",
        "# Rescale image pixel values and apply basic augmentation (if needed)\n",
        "datagen = ImageDataGenerator(rescale=1./255)\n",
        "\n",
        "# Load training and validation data from directory\n",
        "# Images will be resized to 128x128, and labels will be one-hot encoded\n",
        "train_generator = datagen.flow_from_directory(\n",
        "    dataset_path,\n",
        "    target_size=(128, 128),\n",
        "    batch_size=32,\n",
        "    class_mode='categorical'\n",
        ")\n",
        "\n",
        "validation_generator = datagen.flow_from_directory(\n",
        "    dataset_path,\n",
        "    target_size=(128, 128),\n",
        "    batch_size=32,\n",
        "    class_mode='categorical'\n",
        ")"
      ],
      "metadata": {
        "id": "ZcPeByHX6XfC"
      },
      "id": "ZcPeByHX6XfC",
      "execution_count": null,
      "outputs": []
    },
    {
      "cell_type": "markdown",
      "source": [
        "### Define CNN Model Architecture"
      ],
      "metadata": {
        "id": "nJuEqWim6rVs"
      },
      "id": "nJuEqWim6rVs"
    },
    {
      "cell_type": "code",
      "source": [
        "# Build a Convolutional Neural Network for multi-class classification\n",
        "model = Sequential([\n",
        "    Conv2D(32, (3,3), activation='relu', input_shape=(128, 128, 3)),\n",
        "    MaxPooling2D(2,2),\n",
        "\n",
        "    Conv2D(64, (3,3), activation='relu'),\n",
        "    MaxPooling2D(2,2),\n",
        "\n",
        "    Conv2D(128, (3,3), activation='relu'),\n",
        "    MaxPooling2D(2,2),\n",
        "\n",
        "    Flatten(),\n",
        "    Dense(128, activation='relu'),\n",
        "    Dropout(0.5),\n",
        "    Dense(train_generator.num_classes, activation='softmax')\n",
        "])"
      ],
      "metadata": {
        "id": "cXBwagJz6qOW"
      },
      "id": "cXBwagJz6qOW",
      "execution_count": null,
      "outputs": []
    },
    {
      "cell_type": "markdown",
      "source": [
        "### Compile, Save & Train the Model"
      ],
      "metadata": {
        "id": "vjuwRDO0692g"
      },
      "id": "vjuwRDO0692g"
    },
    {
      "cell_type": "code",
      "execution_count": null,
      "id": "99848b40-7750-4418-9ba7-21331618fef5",
      "metadata": {
        "id": "99848b40-7750-4418-9ba7-21331618fef5",
        "outputId": "e6547287-849b-4ce4-c9de-b973e798ad19"
      },
      "outputs": [
        {
          "name": "stdout",
          "output_type": "stream",
          "text": [
            "Found 56971 images belonging to 39 classes.\n",
            "Found 56971 images belonging to 39 classes.\n"
          ]
        },
        {
          "name": "stderr",
          "output_type": "stream",
          "text": [
            "C:\\Users\\vishe\\AppData\\Roaming\\Python\\Python312\\site-packages\\keras\\src\\layers\\convolutional\\base_conv.py:107: UserWarning: Do not pass an `input_shape`/`input_dim` argument to a layer. When using Sequential models, prefer using an `Input(shape)` object as the first layer in the model instead.\n",
            "  super().__init__(activity_regularizer=activity_regularizer, **kwargs)\n"
          ]
        },
        {
          "name": "stdout",
          "output_type": "stream",
          "text": [
            "Epoch 1/10\n"
          ]
        },
        {
          "name": "stderr",
          "output_type": "stream",
          "text": [
            "C:\\Users\\vishe\\AppData\\Roaming\\Python\\Python312\\site-packages\\keras\\src\\trainers\\data_adapters\\py_dataset_adapter.py:121: UserWarning: Your `PyDataset` class should call `super().__init__(**kwargs)` in its constructor. `**kwargs` can include `workers`, `use_multiprocessing`, `max_queue_size`. Do not pass these arguments to `fit()`, as they will be ignored.\n",
            "  self._warn_if_super_not_called()\n"
          ]
        },
        {
          "name": "stdout",
          "output_type": "stream",
          "text": [
            "\u001b[1m1781/1781\u001b[0m \u001b[32m━━━━━━━━━━━━━━━━━━━━\u001b[0m\u001b[37m\u001b[0m \u001b[1m1408s\u001b[0m 789ms/step - accuracy: 0.4196 - loss: 2.2000 - val_accuracy: 0.8412 - val_loss: 0.5395\n",
            "Epoch 2/10\n",
            "\u001b[1m1781/1781\u001b[0m \u001b[32m━━━━━━━━━━━━━━━━━━━━\u001b[0m\u001b[37m\u001b[0m \u001b[1m784s\u001b[0m 440ms/step - accuracy: 0.7373 - loss: 0.8593 - val_accuracy: 0.8975 - val_loss: 0.3396\n",
            "Epoch 3/10\n",
            "\u001b[1m1781/1781\u001b[0m \u001b[32m━━━━━━━━━━━━━━━━━━━━\u001b[0m\u001b[37m\u001b[0m \u001b[1m796s\u001b[0m 447ms/step - accuracy: 0.8075 - loss: 0.6064 - val_accuracy: 0.9396 - val_loss: 0.2046\n",
            "Epoch 4/10\n",
            "\u001b[1m1781/1781\u001b[0m \u001b[32m━━━━━━━━━━━━━━━━━━━━\u001b[0m\u001b[37m\u001b[0m \u001b[1m778s\u001b[0m 436ms/step - accuracy: 0.8460 - loss: 0.4855 - val_accuracy: 0.9549 - val_loss: 0.1495\n",
            "Epoch 5/10\n",
            "\u001b[1m1781/1781\u001b[0m \u001b[32m━━━━━━━━━━━━━━━━━━━━\u001b[0m\u001b[37m\u001b[0m \u001b[1m784s\u001b[0m 440ms/step - accuracy: 0.8708 - loss: 0.4070 - val_accuracy: 0.9522 - val_loss: 0.1409\n",
            "Epoch 6/10\n",
            "\u001b[1m1781/1781\u001b[0m \u001b[32m━━━━━━━━━━━━━━━━━━━━\u001b[0m\u001b[37m\u001b[0m \u001b[1m1367s\u001b[0m 767ms/step - accuracy: 0.8876 - loss: 0.3456 - val_accuracy: 0.9700 - val_loss: 0.0938\n",
            "Epoch 7/10\n",
            "\u001b[1m1781/1781\u001b[0m \u001b[32m━━━━━━━━━━━━━━━━━━━━\u001b[0m\u001b[37m\u001b[0m \u001b[1m1192s\u001b[0m 669ms/step - accuracy: 0.9054 - loss: 0.2896 - val_accuracy: 0.9734 - val_loss: 0.0868\n",
            "Epoch 8/10\n",
            "\u001b[1m1781/1781\u001b[0m \u001b[32m━━━━━━━━━━━━━━━━━━━━\u001b[0m\u001b[37m\u001b[0m \u001b[1m870s\u001b[0m 488ms/step - accuracy: 0.9135 - loss: 0.2555 - val_accuracy: 0.9819 - val_loss: 0.0578\n",
            "Epoch 9/10\n",
            "\u001b[1m1781/1781\u001b[0m \u001b[32m━━━━━━━━━━━━━━━━━━━━\u001b[0m\u001b[37m\u001b[0m \u001b[1m836s\u001b[0m 469ms/step - accuracy: 0.9243 - loss: 0.2321 - val_accuracy: 0.9861 - val_loss: 0.0478\n",
            "Epoch 10/10\n",
            "\u001b[1m1781/1781\u001b[0m \u001b[32m━━━━━━━━━━━━━━━━━━━━\u001b[0m\u001b[37m\u001b[0m \u001b[1m808s\u001b[0m 453ms/step - accuracy: 0.9335 - loss: 0.2064 - val_accuracy: 0.9909 - val_loss: 0.0339\n"
          ]
        },
        {
          "name": "stderr",
          "output_type": "stream",
          "text": [
            "WARNING:absl:You are saving your model as an HDF5 file via `model.save()` or `keras.saving.save_model(model)`. This file format is considered legacy. We recommend using instead the native Keras format, e.g. `model.save('my_model.keras')` or `keras.saving.save_model(model, 'my_model.keras')`. \n"
          ]
        },
        {
          "data": {
            "image/png": "[encoded data removed]",
            "text/plain": [
              "<Figure size 640x480 with 1 Axes>"
            ]
          },
          "metadata": {},
          "output_type": "display_data"
        },
        {
          "data": {
            "image/png": "[encoded data removed]",
            "text/plain": [
              "<Figure size 640x480 with 1 Axes>"
            ]
          },
          "metadata": {},
          "output_type": "display_data"
        }
      ],
      "source": [
        "# Compile the model using Adam optimizer and categorical crossentropy loss\n",
        "model.compile(optimizer='adam', loss='categorical_crossentropy', metrics=['accuracy'])\n",
        "# Train the model for 10 epochs using the training and validation generators\n",
        "history = model.fit(\n",
        "    train_generator,\n",
        "    validation_data=validation_generator,\n",
        "    epochs=10\n",
        ")\n",
        "# Save the trained model to .h5 file for future use\n",
        "model.save(\"trained_model.h5\")\n",
        "\n",
        "import matplotlib.pyplot as plt\n",
        "# Plot training vs validation accuracy\n",
        "plt.plot(history.history['accuracy'], label='Train Accuracy')\n",
        "plt.plot(history.history['val_accuracy'], label='Validation Accuracy')\n",
        "plt.xlabel('Epochs')\n",
        "plt.ylabel('Accuracy')\n",
        "plt.title('Model Accuracy')\n",
        "plt.legend()\n",
        "plt.show()\n",
        "\n",
        "plt.plot(history.history['loss'], label='Train Loss')\n",
        "plt.plot(history.history['val_loss'], label='Validation Loss')\n",
        "plt.xlabel('Epochs')\n",
        "plt.ylabel('Loss')\n",
        "plt.title('Model Loss')\n",
        "plt.legend()\n",
        "plt.show()\n"
      ]
    },
    {
      "cell_type": "markdown",
      "source": [
        "### Model Testing"
      ],
      "metadata": {
        "id": "aBHyhWtP7H0m"
      },
      "id": "aBHyhWtP7H0m"
    },
    {
      "cell_type": "code",
      "execution_count": null,
      "id": "fcc6ae07-a513-430d-939c-d82a719539b3",
      "metadata": {
        "id": "fcc6ae07-a513-430d-939c-d82a719539b3",
        "outputId": "416395dd-3123-4481-a5ed-a578dd37aba2"
      },
      "outputs": [
        {
          "name": "stderr",
          "output_type": "stream",
          "text": [
            "WARNING:absl:Compiled the loaded model, but the compiled metrics have yet to be built. `model.compile_metrics` will be empty until you train or evaluate the model.\n"
          ]
        },
        {
          "name": "stdout",
          "output_type": "stream",
          "text": [
            "\u001b[1m1/1\u001b[0m \u001b[32m━━━━━━━━━━━━━━━━━━━━\u001b[0m\u001b[37m\u001b[0m \u001b[1m0s\u001b[0m 87ms/step\n",
            "Predicted Class: Strawberry___Leaf_scorch\n"
          ]
        }
      ],
      "source": [
        "import tensorflow as tf\n",
        "import numpy as np\n",
        "from tensorflow.keras.preprocessing import image\n",
        "\n",
        "model = tf.keras.models.load_model(\"trained_model.h5\")\n",
        "\n",
        "img_path = \"plant_data/Strawberry___Leaf_scorch/image (993).JPG\"\n",
        "\n",
        "img = image.load_img(img_path, target_size=(128, 128))\n",
        "img_array = image.img_to_array(img)\n",
        "img_array = np.expand_dims(img_array, axis=0)\n",
        "img_array = img_array / 255.0\n",
        "\n",
        "predictions = model.predict(img_array)\n",
        "predicted_class = np.argmax(predictions)\n",
        "\n",
        "class_labels = list(train_generator.class_indices.keys())\n",
        "print(f\"Predicted Class: {class_labels[predicted_class]}\")\n",
        "\n"
      ]
    },
    {
      "cell_type": "markdown",
      "id": "45688336",
      "metadata": {
        "id": "45688336"
      },
      "source": [
        "###(Optional) Convert to TensorFlow Lite"
      ]
    },
    {
      "cell_type": "code",
      "execution_count": null,
      "id": "c798e51a-1725-46d2-9db4-fa704f47a94f",
      "metadata": {
        "id": "c798e51a-1725-46d2-9db4-fa704f47a94f",
        "outputId": "261f28d3-14f1-4e72-9a32-7c03221f9f32"
      },
      "outputs": [
        {
          "name": "stderr",
          "output_type": "stream",
          "text": [
            "WARNING:absl:Compiled the loaded model, but the compiled metrics have yet to be built. `model.compile_metrics` will be empty until you train or evaluate the model.\n"
          ]
        },
        {
          "name": "stdout",
          "output_type": "stream",
          "text": [
            "INFO:tensorflow:Assets written to: model\\assets\n"
          ]
        },
        {
          "name": "stderr",
          "output_type": "stream",
          "text": [
            "INFO:tensorflow:Assets written to: model\\assets\n"
          ]
        },
        {
          "name": "stdout",
          "output_type": "stream",
          "text": [
            "Saved artifact at 'model'. The following endpoints are available:\n",
            "\n",
            "* Endpoint 'serve'\n",
            "  args_0 (POSITIONAL_ONLY): TensorSpec(shape=(None, 128, 128, 3), dtype=tf.float32, name='input_layer_1')\n",
            "Output Type:\n",
            "  TensorSpec(shape=(None, 13), dtype=tf.float32, name=None)\n",
            "Captures:\n",
            "  1651036109136: TensorSpec(shape=(), dtype=tf.resource, name=None)\n",
            "  1651036107792: TensorSpec(shape=(), dtype=tf.resource, name=None)\n",
            "  1651036109520: TensorSpec(shape=(), dtype=tf.resource, name=None)\n",
            "  1651036108176: TensorSpec(shape=(), dtype=tf.resource, name=None)\n",
            "  1651036110672: TensorSpec(shape=(), dtype=tf.resource, name=None)\n",
            "  1651036103760: TensorSpec(shape=(), dtype=tf.resource, name=None)\n",
            "  1651036108752: TensorSpec(shape=(), dtype=tf.resource, name=None)\n",
            "  1651036106448: TensorSpec(shape=(), dtype=tf.resource, name=None)\n",
            "  1651036107216: TensorSpec(shape=(), dtype=tf.resource, name=None)\n",
            "  1651036104144: TensorSpec(shape=(), dtype=tf.resource, name=None)\n"
          ]
        }
      ],
      "source": [
        "import tensorflow as tf\n",
        "\n",
        "model = tf.keras.models.load_model('trained_model.h5')\n",
        "\n",
        "model.export('model')"
      ]
    },
    {
      "cell_type": "code",
      "execution_count": null,
      "id": "5513c8ea-6c0b-4a67-ac03-8664ca4aa119",
      "metadata": {
        "id": "5513c8ea-6c0b-4a67-ac03-8664ca4aa119",
        "outputId": "4aadfd89-626c-4e53-d325-130a349378d3"
      },
      "outputs": [
        {
          "name": "stdout",
          "output_type": "stream",
          "text": [
            "Model successfully converted to TensorFlow Lite!\n"
          ]
        }
      ],
      "source": [
        "import tensorflow as tf\n",
        "\n",
        "saved_model_dir = 'model'\n",
        "\n",
        "converter = tf.lite.TFLiteConverter.from_saved_model(saved_model_dir)\n",
        "tflite_model = converter.convert()\n",
        "\n",
        "# Save the converted model to file\n",
        "with open('model.tflite', 'wb') as f:\n",
        "    f.write(tflite_model)\n",
        "\n",
        "print(\"Model successfully converted to TensorFlow Lite!\")"
      ]
    }
  ],
  "metadata": {
    "kernelspec": {
      "display_name": "Python 3",
      "language": "python",
      "name": "python3"
    },
    "language_info": {
      "codemirror_mode": {
        "name": "ipython",
        "version": 3
      },
      "file_extension": ".py",
      "mimetype": "text/x-python",
      "name": "python",
      "nbconvert_exporter": "python",
      "pygments_lexer": "ipython3",
      "version": "3.12.2"
    },
    "colab": {
      "provenance": []
    }
  },
  "nbformat": 4,
  "nbformat_minor": 5
}